{
 "cells": [
  {
   "cell_type": "markdown",
   "metadata": {},
   "source": [
    "This assignment is taken from Svetlana Lazebnik."
   ]
  },
  {
   "cell_type": "markdown",
   "metadata": {},
   "source": [
    "### Common imports"
   ]
  },
  {
   "cell_type": "code",
   "execution_count": null,
   "metadata": {},
   "outputs": [],
   "source": [
    "%matplotlib inline\n",
    "import os\n",
    "import sys\n",
    "import glob\n",
    "import numpy as np\n",
    "import matplotlib\n",
    "import matplotlib.pyplot as plt\n",
    "from mpl_toolkits.mplot3d import Axes3D\n",
    "from PIL import Image\n",
    "import time"
   ]
  },
  {
   "cell_type": "markdown",
   "metadata": {},
   "source": [
    "### Provided functions\n",
    "#### Image loading and saving"
   ]
  },
  {
   "cell_type": "code",
   "execution_count": null,
   "metadata": {},
   "outputs": [],
   "source": [
    "def LoadFaceImages(pathname, subject_name, num_images):\n",
    "    \"\"\"\n",
    "    Load the set of face images.  \n",
    "    The routine returns\n",
    "        ambimage: image illuminated under the ambient lighting\n",
    "        imarray: a 3-D array of images, h x w x Nimages\n",
    "        lightdirs: Nimages x 3 array of light source directions\n",
    "    \"\"\"\n",
    "\n",
    "    def load_image(fname):\n",
    "        return np.asarray(Image.open(fname))\n",
    "\n",
    "    def fname_to_ang(fname):\n",
    "        yale_name = os.path.basename(fname)\n",
    "        return int(yale_name[12:16]), int(yale_name[17:20])\n",
    "\n",
    "    def sph2cart(az, el, r):\n",
    "        rcos_theta = r * np.cos(el)\n",
    "        x = rcos_theta * np.cos(az)\n",
    "        y = rcos_theta * np.sin(az)\n",
    "        z = r * np.sin(el)\n",
    "        return x, y, z\n",
    "\n",
    "    ambimage = load_image(\n",
    "        os.path.join(pathname, subject_name + '_P00_Ambient.pgm'))\n",
    "    im_list = glob.glob(os.path.join(pathname, subject_name + '_P00A*.pgm'))\n",
    "    if num_images <= len(im_list):\n",
    "        im_sub_list = np.random.choice(im_list, num_images, replace=False)\n",
    "    else:\n",
    "        print(\n",
    "            'Total available images is less than specified.\\nProceeding with %d images.\\n'\n",
    "            % len(im_list))\n",
    "        im_sub_list = im_list\n",
    "    im_sub_list.sort()\n",
    "    imarray = np.stack([load_image(fname) for fname in im_sub_list], axis=-1)\n",
    "    Ang = np.array([fname_to_ang(fname) for fname in im_sub_list])\n",
    "\n",
    "    x, y, z = sph2cart(Ang[:, 0] / 180.0 * np.pi, Ang[:, 1] / 180.0 * np.pi, 1)\n",
    "    lightdirs = np.stack([y, z, x], axis=-1)\n",
    "    return ambimage, imarray, lightdirs"
   ]
  },
  {
   "cell_type": "code",
   "execution_count": null,
   "metadata": {},
   "outputs": [],
   "source": [
    "def save_outputs(subject_name, albedo_image, surface_normals):\n",
    "    im = Image.fromarray((albedo_image*255).astype(np.uint8))\n",
    "    im.save(\"%s_albedo.jpg\" % subject_name)\n",
    "    im = Image.fromarray((surface_normals[:,:,0]*128+128).astype(np.uint8))\n",
    "    im.save(\"%s_normals_x.jpg\" % subject_name)\n",
    "    im = Image.fromarray((surface_normals[:,:,1]*128+128).astype(np.uint8))\n",
    "    im.save(\"%s_normals_y.jpg\" % subject_name)\n",
    "    im = Image.fromarray((surface_normals[:,:,2]*128+128).astype(np.uint8))\n",
    "    im.save(\"%s_normals_z.jpg\" % subject_name)"
   ]
  },
  {
   "cell_type": "markdown",
   "metadata": {},
   "source": [
    "#### Plot the albedo and the surface norms. "
   ]
  },
  {
   "cell_type": "code",
   "execution_count": null,
   "metadata": {},
   "outputs": [],
   "source": [
    "def plot_albedo_and_surface_normals(albedo_image, surface_normals):\n",
    "    \"\"\"\n",
    "    albedo_image: h x w matrix\n",
    "    surface_normals: h x w x 3 matrix.\n",
    "    \"\"\"\n",
    "    fig, axes = plt.subplots(1, 4, figsize=(10,2.5))\n",
    "    ax = axes[0]\n",
    "    ax.axis('off')\n",
    "    ax.set_title('albedo')\n",
    "    ax.imshow(albedo_image, cmap='gray')\n",
    "\n",
    "    ax = axes[1]\n",
    "    ax.axis('off')\n",
    "    ax.set_title('X')\n",
    "    im = ax.imshow(surface_normals[:,:,0], cmap='jet')\n",
    "    ax = axes[2]\n",
    "    ax.axis('off')\n",
    "    ax.set_title('Y')\n",
    "    im = ax.imshow(surface_normals[:,:,1], cmap='jet')\n",
    "    ax = axes[3]\n",
    "    ax.axis('off')\n",
    "    ax.set_title('Z')\n",
    "    im = ax.imshow(surface_normals[:,:,2], cmap='jet')\n",
    "\n",
    "    fig.colorbar(im, ax=axes, fraction=0.02, aspect=15)"
   ]
  },
  {
   "cell_type": "markdown",
   "metadata": {},
   "source": [
    "#### Plot the height map"
   ]
  },
  {
   "cell_type": "code",
   "execution_count": null,
   "metadata": {},
   "outputs": [],
   "source": [
    "def set_aspect_equal_3d(ax):\n",
    "    \"\"\"https://stackoverflow.com/questions/13685386\"\"\"\n",
    "    \"\"\"Fix equal aspect bug for 3D plots.\"\"\"\n",
    "    xlim = ax.get_xlim3d()\n",
    "    ylim = ax.get_ylim3d()\n",
    "    zlim = ax.get_zlim3d()\n",
    "    from numpy import mean\n",
    "    xmean = mean(xlim)\n",
    "    ymean = mean(ylim)\n",
    "    zmean = mean(zlim)\n",
    "    plot_radius = max([\n",
    "        abs(lim - mean_)\n",
    "        for lims, mean_ in ((xlim, xmean), (ylim, ymean), (zlim, zmean))\n",
    "        for lim in lims\n",
    "    ])\n",
    "    ax.set_xlim3d([xmean - plot_radius, xmean + plot_radius])\n",
    "    ax.set_ylim3d([ymean - plot_radius, ymean + plot_radius])\n",
    "    ax.set_zlim3d([zmean - plot_radius, zmean + plot_radius])\n",
    "\n",
    "def display_3d(albedo_image, height_map, elev=10, azim=80):\n",
    "    fig = plt.figure(figsize=(10, 10))\n",
    "    ax = fig.gca(projection='3d')\n",
    "    ax.view_init(elev, azim)\n",
    "    X = np.arange(albedo_image.shape[0])\n",
    "    Y = np.arange(albedo_image.shape[1])\n",
    "    X, Y = np.meshgrid(Y, X)\n",
    "    H = np.flipud(np.fliplr(height_map))\n",
    "    A = np.flipud(np.fliplr(albedo_image))\n",
    "    A = np.stack([A, A, A], axis=-1)\n",
    "    ax.xaxis.set_ticks([])\n",
    "    ax.xaxis.set_label_text('Z')\n",
    "    ax.yaxis.set_ticks([])\n",
    "    ax.yaxis.set_label_text('Y')\n",
    "    ax.zaxis.set_ticks([])\n",
    "    ax.yaxis.set_label_text('X')\n",
    "    surf = ax.plot_surface(\n",
    "        H, X, Y, cmap='gray', facecolors=A, linewidth=0, antialiased=False)\n",
    "    set_aspect_equal_3d(ax)"
   ]
  },
  {
   "cell_type": "markdown",
   "metadata": {},
   "source": [
    "---\n",
    "### Your implementation"
   ]
  },
  {
   "cell_type": "code",
   "execution_count": null,
   "metadata": {},
   "outputs": [],
   "source": [
    "def preprocess(ambimage, imarray):\n",
    "    \"\"\"\n",
    "    preprocess the data: \n",
    "        1. subtract ambient_image from each image in imarray.\n",
    "        2. make sure no pixel is less than zero.\n",
    "        3. rescale values in imarray to be between 0 and 1.\n",
    "    Inputs:\n",
    "        ambimage: h x w\n",
    "        imarray: h x w x Nimages\n",
    "    Outputs:\n",
    "        processed_imarray: h x w x Nimages\n",
    "    \"\"\"\n",
    "    f=255;\n",
    "    New_img = (imarray - ambimage[:,:,np.newaxis])\n",
    "    \n",
    "    New_img=New_img/f\n",
    "\n",
    "    processed_imarray = np.where(New_img>0, New_img, 0)\n",
    "\n",
    "    return processed_imarray"
   ]
  },
  {
   "cell_type": "code",
   "execution_count": null,
   "metadata": {},
   "outputs": [],
   "source": [
    "def computealbedo(computed,height, width):\n",
    "    albedot = computetemp(computed) \n",
    "    return np.reshape(albedot,(height,width)) \n",
    "def computetemp(computed):\n",
    "    return np.linalg.norm(computed, axis = 0)"
   ]
  },
  {
   "cell_type": "code",
   "execution_count": null,
   "metadata": {},
   "outputs": [],
   "source": [
    "def surfacenormals(computed,height,width):\n",
    "    surface_normals_temp = computed/computetemp(computed)\n",
    "    surface_normals_final = np.transpose(surface_normals_temp, (1,0)) \n",
    "    return np.reshape(surface_normals_final, (height,width,3))"
   ]
  },
  {
   "cell_type": "code",
   "execution_count": null,
   "metadata": {},
   "outputs": [],
   "source": [
    "def photometric_stereo(imarray, light_dirs):\n",
    "    \"\"\"\n",
    "    Inputs:\n",
    "        imarray:  h x w x Nimages\n",
    "        light_dirs: Nimages x 3\n",
    "    Outputs:\n",
    "        albedo_image: h x w\n",
    "        surface_norms: h x w x 3\n",
    "    \"\"\"\n",
    "    height,width,N=imarray.shape\n",
    "    \n",
    "    imarray = np.transpose( imarray, (2, 0, 1))\n",
    "    imarray = np.reshape(imarray,(N, height*width))\n",
    "    \n",
    "    computed= np.linalg.lstsq(light_dirs,imarray, rcond= None)[0]\n",
    "    \n",
    "    albedo_image = computealbedo(computed,height,width)\n",
    "\n",
    "    surface_normals = surfacenormals(computed,height,width)\n",
    "    print(\"The mean=\",np.mean(computed))\n",
    "#     print(\"imarray dim=\",imarray.shape)\n",
    "#     print(\"light_dirs dim=\",light_dirs.shape)\n",
    "#     print(\"albedo_image dim=\",albedo_image.shape)\n",
    "#     print(\"surface normar dim=\",surface_normals.shape)\n",
    "    return albedo_image, surface_normals"
   ]
  },
  {
   "cell_type": "code",
   "execution_count": null,
   "metadata": {},
   "outputs": [],
   "source": [
    "def integrationcolumn(surface_normals):\n",
    "    in_dirx = surface_normals[:,:,0]/surface_normals[:,:,2]\n",
    "    in_diry = surface_normals[:,:,1]/surface_normals[:,:,2]\n",
    "    return np.cumsum(in_dirx, axis=1)[0] + np.cumsum(in_diry, axis=0)"
   ]
  },
  {
   "cell_type": "code",
   "execution_count": null,
   "metadata": {},
   "outputs": [],
   "source": [
    "def integrationrow(surface_normals):\n",
    "    in_dirx = surface_normals[:,:,0]/surface_normals[:,:,2]\n",
    "    in_diry = surface_normals[:,:,1]/surface_normals[:,:,2]\n",
    "    return np.cumsum(in_dirx, axis=1) + np.cumsum(in_diry, axis=0)[0]"
   ]
  },
  {
   "cell_type": "code",
   "execution_count": null,
   "metadata": {},
   "outputs": [],
   "source": [
    "def integrationaverage(surface_normals):\n",
    "    return (integrationcolumn(surface_normals)+integrationrow(surface_normals))/2"
   ]
  },
  {
   "cell_type": "code",
   "execution_count": null,
   "metadata": {},
   "outputs": [],
   "source": [
    "def integrationrandom(surface_normals):\n",
    "        itrarray = []\n",
    "        \n",
    "        in_dirx = surface_normals[:,:,0]/surface_normals[:,:,2]\n",
    "        in_diry = surface_normals[:,:,1]/surface_normals[:,:,2]\n",
    "        \n",
    "        #varcheck = 10\n",
    "        for jitr in range(10):\n",
    "            xr=in_dirx.shape[0]\n",
    "            xc=in_dirx.shape[1]\n",
    "            g=np.zeros([xr, xc])\n",
    "            itrarray.append(g)\n",
    "        for row in range(xr):\n",
    "            for col in range(xc):\n",
    "                zeromat=np.ones(row)\n",
    "                onemat= np.zeros(col)\n",
    "                varpat = np.append(zeromat,onemat)\n",
    "                for jitr in range(10):\n",
    "                    \n",
    "                    ccurent = col\n",
    "                    rcurent = row\n",
    "                    \n",
    "                    np.random.shuffle(varpat)\n",
    "                    for x in varpat:\n",
    "                        if x != 1:\n",
    "                            itrarray[jitr][row][col] = in_dirx[rcurent][ccurent]+itrarray[jitr][row][col]\n",
    "                            ccurent -= 1\n",
    "                        else:\n",
    "                            itrarray[jitr][row][col] = in_diry[rcurent][ccurent]+itrarray[jitr][row][col]\n",
    "                            rcurent -= 1\n",
    "        result=np.sum(itrarray, axis=0)\n",
    "        returnres=result/10\n",
    "        return returnres"
   ]
  },
  {
   "cell_type": "code",
   "execution_count": null,
   "metadata": {},
   "outputs": [],
   "source": [
    "def get_surface(surface_normals, integration_method):\n",
    "    \"\"\"\n",
    "    Inputs:\n",
    "        surface_normals:h x w x 3\n",
    "        integration_method: string in ['average', 'column', 'row', 'random']\n",
    "    Outputs:\n",
    "        height_map: h x w\n",
    "    \"\"\"\n",
    "    if integration_method == 'row':\n",
    "        return integrationrow(surface_normals)\n",
    "    elif integration_method == 'column':\n",
    "        return integrationcolumn(surface_normals)\n",
    "    elif integration_method == 'average':\n",
    "        return integrationaverage(surface_normals)\n",
    "    elif integration_method == 'random':\n",
    "        \n",
    "        return integrationrandom(surface_normals)"
   ]
  },
  {
   "cell_type": "markdown",
   "metadata": {},
   "source": [
    "### Main function"
   ]
  },
  {
   "cell_type": "code",
   "execution_count": null,
   "metadata": {},
   "outputs": [],
   "source": [
    "root_path = './croppedyale/'\n",
    "subject_name = 'yaleB02'\n",
    "integration_method = 'average'\n",
    "save_flag = True\n",
    "\n",
    "full_path = '%s%s' % (root_path, subject_name)\n",
    "ambient_image, imarray, light_dirs = LoadFaceImages(full_path, subject_name,\n",
    "                                                    64)\n",
    "\n",
    "processed_imarray = preprocess(ambient_image, imarray)\n",
    "\n",
    "albedo_image, surface_normals = photometric_stereo(processed_imarray,\n",
    "                                                   light_dirs)\n",
    "\n",
    "height_map = get_surface(surface_normals, 'average')\n",
    "\n",
    "if save_flag:\n",
    "    save_outputs(subject_name, albedo_image, surface_normals)"
   ]
  },
  {
   "cell_type": "code",
   "execution_count": null,
   "metadata": {},
   "outputs": [],
   "source": [
    "plot_albedo_and_surface_normals(albedo_image, surface_normals)"
   ]
  },
  {
   "cell_type": "code",
   "execution_count": null,
   "metadata": {
    "scrolled": true
   },
   "outputs": [],
   "source": [
    "start_time = time.time()\n",
    "height_map = get_surface(surface_normals, 'average')\n",
    "Average_time=time.time() - start_time\n",
    "display_3d(albedo_image, height_map, 00,00);\n",
    "display_3d(albedo_image, height_map)\n",
    "display_3d(albedo_image, height_map,60,20);\n",
    "display_3d(albedo_image, height_map,30,70);\n",
    "display_3d(albedo_image, height_map,20,90);\n",
    "display_3d(albedo_image, height_map,80,20);\n",
    "display_3d(albedo_image, height_map,20,20);"
   ]
  },
  {
   "cell_type": "code",
   "execution_count": null,
   "metadata": {
    "scrolled": true
   },
   "outputs": [],
   "source": [
    "start_time = time.time()\n",
    "height_map = get_surface(surface_normals, 'row')\n",
    "Row_time=time.time() - start_time\n",
    "display_3d(albedo_image, height_map, 00,00);\n",
    "display_3d(albedo_image, height_map)\n",
    "display_3d(albedo_image, height_map,60,20);\n",
    "display_3d(albedo_image, height_map,30,70);\n",
    "display_3d(albedo_image, height_map,20,90);\n",
    "display_3d(albedo_image, height_map,80,20);\n",
    "display_3d(albedo_image, height_map,20,20);"
   ]
  },
  {
   "cell_type": "code",
   "execution_count": null,
   "metadata": {
    "scrolled": true
   },
   "outputs": [],
   "source": [
    "start_time = time.time()\n",
    "height_map = get_surface(surface_normals, 'column')\n",
    "Column_time=time.time() - start_time\n",
    "display_3d(albedo_image, height_map, 00,00);\n",
    "display_3d(albedo_image, height_map)\n",
    "display_3d(albedo_image, height_map,60,20);\n",
    "display_3d(albedo_image, height_map,30,70);\n",
    "display_3d(albedo_image, height_map,20,90);\n",
    "display_3d(albedo_image, height_map,80,20);\n",
    "display_3d(albedo_image, height_map,20,20);"
   ]
  },
  {
   "cell_type": "code",
   "execution_count": null,
   "metadata": {
    "scrolled": true
   },
   "outputs": [],
   "source": [
    "start_time = time.time()\n",
    "height_map = get_surface(surface_normals, 'random')\n",
    "Random_time=time.time() - start_time\n",
    "display_3d(albedo_image, height_map, 00,00);\n",
    "display_3d(albedo_image, height_map)\n",
    "display_3d(albedo_image, height_map,60,20);\n",
    "display_3d(albedo_image, height_map,30,70);\n",
    "display_3d(albedo_image, height_map,20,90);\n",
    "display_3d(albedo_image, height_map,80,20);\n",
    "display_3d(albedo_image, height_map,20,20);"
   ]
  },
  {
   "cell_type": "code",
   "execution_count": null,
   "metadata": {},
   "outputs": [],
   "source": [
    "print(\"Time Taken for the Various methods\")\n",
    "print(\"Row     \", Row_time)\n",
    "print(\"Column  \", Column_time)\n",
    "print(\"Average \", Average_time)\n",
    "print(\"Random  \", Random_time)"
   ]
  },
  {
   "cell_type": "code",
   "execution_count": null,
   "metadata": {},
   "outputs": [],
   "source": []
  },
  {
   "cell_type": "code",
   "execution_count": null,
   "metadata": {},
   "outputs": [],
   "source": []
  },
  {
   "cell_type": "code",
   "execution_count": null,
   "metadata": {},
   "outputs": [],
   "source": []
  },
  {
   "cell_type": "code",
   "execution_count": null,
   "metadata": {},
   "outputs": [],
   "source": []
  }
 ],
 "metadata": {
  "kernelspec": {
   "display_name": "Python 3",
   "language": "python",
   "name": "python3"
  },
  "language_info": {
   "codemirror_mode": {
    "name": "ipython",
    "version": 3
   },
   "file_extension": ".py",
   "mimetype": "text/x-python",
   "name": "python",
   "nbconvert_exporter": "python",
   "pygments_lexer": "ipython3",
   "version": "3.7.4"
  }
 },
 "nbformat": 4,
 "nbformat_minor": 2
}
